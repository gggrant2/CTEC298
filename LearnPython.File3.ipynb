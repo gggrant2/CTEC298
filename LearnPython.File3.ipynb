{
 "cells": [
  {
   "cell_type": "code",
   "execution_count": 1,
   "id": "4227941d-0dca-4de6-a022-3c4db6437952",
   "metadata": {},
   "outputs": [],
   "source": [
    "#Genesis Grant\n",
    "#Python Tutorials\n",
    "#Part 3: Learn the Basics"
   ]
  },
  {
   "cell_type": "code",
   "execution_count": 5,
   "id": "ba867dc8-4b7e-4de0-acd1-7539a16c2d09",
   "metadata": {},
   "outputs": [],
   "source": [
    "#13. Numpy Arrays\n",
    "weight_kg = [81.65, 97.52, 95.25, 92.98, 86.18, 88.45]\n",
    "\n",
    "import numpy as np\n",
    "\n",
    "# Create a numpy array np_weight_kg from weight_kg\n",
    "np_weight_kg = np.array(weight_kg)\n",
    "\n",
    "# Create np_weight_lbs from np_weight_kg\n",
    "np_weight_lbs = np_weight_kg * 2.2\n",
    "\n",
    "# Print out np_weight_lbs\n",
    "print(np_weight_lbs)"
   ]
  },
  {
   "cell_type": "code",
   "execution_count": 7,
   "id": "36fab3ba-c53b-4a79-8ea5-0adbc55556cc",
   "metadata": {},
   "outputs": [],
   "source": [
    "#14. Pandas Basics"
   ]
  },
  {
   "cell_type": "code",
   "execution_count": null,
   "id": "cd5e802b-0c07-44c0-8364-438f73a60db2",
   "metadata": {},
   "outputs": [],
   "source": []
  }
 ],
 "metadata": {
  "kernelspec": {
   "display_name": "Python 3 (ipykernel)",
   "language": "python",
   "name": "python3"
  },
  "language_info": {
   "codemirror_mode": {
    "name": "ipython",
    "version": 3
   },
   "file_extension": ".py",
   "mimetype": "text/x-python",
   "name": "python",
   "nbconvert_exporter": "python",
   "pygments_lexer": "ipython3",
   "version": "3.12.7"
  }
 },
 "nbformat": 4,
 "nbformat_minor": 5
}
